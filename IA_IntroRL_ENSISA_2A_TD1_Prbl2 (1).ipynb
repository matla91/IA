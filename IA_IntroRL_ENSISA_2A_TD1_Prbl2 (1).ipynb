{
 "cells": [
  {
   "cell_type": "markdown",
   "metadata": {
    "id": "JIuzZH7gj7Yu"
   },
   "source": [
    "\n",
    "\n",
    "> Import libraries to use\n",
    "\n"
   ]
  },
  {
   "cell_type": "code",
   "execution_count": null,
   "metadata": {
    "id": "1n-L9pacjmBA"
   },
   "outputs": [],
   "source": [
    "import numpy as np"
   ]
  },
  {
   "cell_type": "markdown",
   "metadata": {
    "id": "i38qZPSHmDVs"
   },
   "source": [
    ">  # Introduction to numpy (Skip if you already are familiar)"
   ]
  },
  {
   "cell_type": "markdown",
   "metadata": {
    "id": "-wFkLk1kmeIn"
   },
   "source": [
    ">> Creating a 1D array"
   ]
  },
  {
   "cell_type": "code",
   "execution_count": null,
   "metadata": {
    "colab": {
     "base_uri": "https://localhost:8080/"
    },
    "id": "E-o1XD0Qmgxk",
    "outputId": "d5e1bb74-42be-449c-e57a-8e389c3368ef"
   },
   "outputs": [
    {
     "name": "stdout",
     "output_type": "stream",
     "text": [
      "[1 2 3 4]\n"
     ]
    }
   ],
   "source": [
    "a = np.array([1,2,3,4])\n",
    "print(a)"
   ]
  },
  {
   "cell_type": "markdown",
   "metadata": {
    "id": "DWh4Q90Gmh32"
   },
   "source": [
    ">> Creating a 2D array\n"
   ]
  },
  {
   "cell_type": "code",
   "execution_count": null,
   "metadata": {
    "colab": {
     "base_uri": "https://localhost:8080/"
    },
    "id": "mOS0jF1AmjTX",
    "outputId": "98649d5d-6738-499b-e907-bbcf7fe7a48f"
   },
   "outputs": [
    {
     "name": "stdout",
     "output_type": "stream",
     "text": [
      "[[1 2]\n",
      " [3 4]]\n"
     ]
    }
   ],
   "source": [
    "a = np.array([[1,2],[3,4]])\n",
    "print(a)"
   ]
  },
  {
   "cell_type": "markdown",
   "metadata": {
    "id": "4Z_7BfvcmoPA"
   },
   "source": [
    ">> Creating an array full of zeros\n"
   ]
  },
  {
   "cell_type": "code",
   "execution_count": null,
   "metadata": {
    "colab": {
     "base_uri": "https://localhost:8080/"
    },
    "id": "KdGvmJ7gmFrF",
    "outputId": "96c1389b-8ff8-492b-9575-df4a3c38c711"
   },
   "outputs": [
    {
     "name": "stdout",
     "output_type": "stream",
     "text": [
      "[0. 0. 0. 0. 0. 0. 0. 0. 0. 0.]\n",
      "[[0. 0.]\n",
      " [0. 0.]\n",
      " [0. 0.]\n",
      " [0. 0.]\n",
      " [0. 0.]]\n"
     ]
    }
   ],
   "source": [
    "a = np.zeros(shape=(10))\n",
    "print(a)\n",
    "a = np.zeros(shape=(5,2))\n",
    "print(a)"
   ]
  },
  {
   "cell_type": "markdown",
   "metadata": {
    "id": "kV2byWmWmr9g"
   },
   "source": [
    ">> Infinity in numpy"
   ]
  },
  {
   "cell_type": "code",
   "execution_count": null,
   "metadata": {
    "colab": {
     "base_uri": "https://localhost:8080/"
    },
    "id": "9SMPoECVmygc",
    "outputId": "5ceafdaf-3f4d-4c98-e084-5b0409b5f127"
   },
   "outputs": [
    {
     "name": "stdout",
     "output_type": "stream",
     "text": [
      "inf\n"
     ]
    }
   ],
   "source": [
    "print(np.inf)"
   ]
  },
  {
   "cell_type": "markdown",
   "metadata": {
    "id": "FCi8vs49mz44"
   },
   "source": [
    ">> Max and Argmax"
   ]
  },
  {
   "cell_type": "code",
   "execution_count": null,
   "metadata": {
    "colab": {
     "base_uri": "https://localhost:8080/"
    },
    "id": "Ailb-V76nSqc",
    "outputId": "69c91264-9121-434c-8a96-a258748ad558"
   },
   "outputs": [
    {
     "name": "stdout",
     "output_type": "stream",
     "text": [
      "4\n",
      "2\n"
     ]
    }
   ],
   "source": [
    "a = np.array([2,1,4,3])\n",
    "print(np.max(a))\n",
    "print(np.argmax(a))"
   ]
  },
  {
   "cell_type": "markdown",
   "metadata": {
    "id": "6XpkQzTfnXMU"
   },
   "source": [
    ">> From list to Numpy"
   ]
  },
  {
   "cell_type": "code",
   "execution_count": null,
   "metadata": {
    "colab": {
     "base_uri": "https://localhost:8080/"
    },
    "id": "3wdFdBaOncQI",
    "outputId": "0a5aa25a-5bee-4443-adaf-87bbcf0c1216"
   },
   "outputs": [
    {
     "name": "stdout",
     "output_type": "stream",
     "text": [
      "[1, 2, 3, 4]\n",
      "[1 2 3 4]\n"
     ]
    }
   ],
   "source": [
    "l = [1,2,3,4]\n",
    "print(l)\n",
    "print(np.asarray(l))"
   ]
  },
  {
   "cell_type": "markdown",
   "metadata": {
    "id": "PgNawY2LngKt"
   },
   "source": [
    ">> Random in numpy"
   ]
  },
  {
   "cell_type": "code",
   "execution_count": null,
   "metadata": {
    "colab": {
     "base_uri": "https://localhost:8080/"
    },
    "id": "tyopXlWsnjK1",
    "outputId": "80981877-04e6-4f31-ff13-933c7a2103a5"
   },
   "outputs": [
    {
     "name": "stdout",
     "output_type": "stream",
     "text": [
      "[[6 4]\n",
      " [1 6]\n",
      " [7 5]\n",
      " [5 9]\n",
      " [4 2]]\n"
     ]
    }
   ],
   "source": [
    "# Array of Random integers ranging from 1 to 10 (with any size you want)\n",
    "a = np.random.randint(low=1, high=10, size=(5,2))\n",
    "print(a)\n",
    "\n",
    "# Array of random elements of a list with any size you want\n",
    "a = np.random.choice([0,1,2], size=(2,))"
   ]
  },
  {
   "cell_type": "markdown",
   "metadata": {
    "id": "abjqoNDSoAD6"
   },
   "source": [
    ">> Shapes in numpy"
   ]
  },
  {
   "cell_type": "code",
   "execution_count": null,
   "metadata": {
    "colab": {
     "base_uri": "https://localhost:8080/"
    },
    "id": "vN2gUoZEoCbE",
    "outputId": "bb7cb91f-7983-4bc9-d9a2-60f27017986a"
   },
   "outputs": [
    {
     "name": "stdout",
     "output_type": "stream",
     "text": [
      "(4, 2)\n",
      "[[4 3]\n",
      " [3 2]\n",
      " [2 3]\n",
      " [2 2]]\n",
      "(8, 1)\n",
      "[[4]\n",
      " [3]\n",
      " [3]\n",
      " [2]\n",
      " [2]\n",
      " [3]\n",
      " [2]\n",
      " [2]]\n"
     ]
    }
   ],
   "source": [
    "a = np.random.randint(low=1, high=5, size=(4,2))\n",
    "print(a.shape)\n",
    "print(a)\n",
    "\n",
    "# Reshape a to a vector of shape = (8,1)\n",
    "a = a.reshape((8,1))\n",
    "print(a.shape)\n",
    "print(a)"
   ]
  },
  {
   "cell_type": "markdown",
   "metadata": {
    "id": "ekYrPhAGkAfM"
   },
   "source": [
    "# Pre-defined utilities"
   ]
  },
  {
   "cell_type": "code",
   "execution_count": null,
   "metadata": {
    "id": "3kXEezQ_jnoP"
   },
   "outputs": [],
   "source": [
    "\n",
    "int_to_char = {\n",
    "    0 : 'u',\n",
    "    1 : 'r',\n",
    "    2 : 'd',\n",
    "    3 : 'l'\n",
    "}\n",
    "\n",
    "policy_one_step_look_ahead = {\n",
    "    0 : [-1,0],\n",
    "    1 : [0,1],\n",
    "    2 : [1,0],\n",
    "    3 : [0,-1]\n",
    "}\n",
    "\n",
    "def policy_int_to_char(pi,n):\n",
    "\n",
    "    pi_char = ['']\n",
    "\n",
    "    for i in range(n):\n",
    "        for j in range(n):\n",
    "\n",
    "            if i == 0 and j == 0 or i == n-1 and j == n-1:\n",
    "\n",
    "                continue\n",
    "\n",
    "            pi_char.append(int_to_char[pi[i,j]])\n",
    "\n",
    "    pi_char.append('')\n",
    "\n",
    "    return np.asarray(pi_char).reshape(n,n)"
   ]
  },
  {
   "cell_type": "markdown",
   "metadata": {
    "id": "3zlRobQekELk"
   },
   "source": [
    "# 1- Policy evaluation"
   ]
  },
  {
   "cell_type": "code",
   "execution_count": 9,
   "metadata": {
    "id": "N7_2lpTAkHAJ"
   },
   "outputs": [],
   "source": [
    "def policy_evaluation(n, pi, v, Gamma, threshhold, max_iterations=1000):\n",
    "    \"\"\"\n",
    "    This function should return the value function that follows the policy pi.\n",
    "    Use the stopping criteria given in the problem statement.\n",
    "    \"\"\"\n",
    "    iteration = 0\n",
    "    while True:\n",
    "        delta = 0\n",
    "        v_new = v.copy()\n",
    "        for i in range(n):\n",
    "            for j in range(n):\n",
    "                if (i == 0 and j == 0) or (i == n - 1 and j == n - 1):\n",
    "                    continue  # Skip terminal states\n",
    "                a = pi[i, j]  # Current action from policy\n",
    "                # Determine next state based on action\n",
    "                if a == 0:  # UP\n",
    "                    i_new = max(i - 1, 0)\n",
    "                    j_new = j\n",
    "                elif a == 1:  # RIGHT\n",
    "                    i_new = i\n",
    "                    j_new = min(j + 1, n - 1)\n",
    "                elif a == 2:  # DOWN\n",
    "                    i_new = min(i + 1, n - 1)\n",
    "                    j_new = j\n",
    "                elif a == 3:  # LEFT\n",
    "                    i_new = i\n",
    "                    j_new = max(j - 1, 0)\n",
    "                else:\n",
    "                    raise ValueError(\"Invalid action\")\n",
    "                reward = -1  # Reward per step\n",
    "                v_new[i, j] = reward + Gamma * v[i_new, j_new]\n",
    "                delta = max(delta, abs(v_new[i, j] - v[i, j]))\n",
    "        v = v_new.copy()\n",
    "        iteration += 1\n",
    "        if delta <= threshhold or iteration >= max_iterations:\n",
    "            if iteration >= max_iterations:\n",
    "                print(f\"Policy evaluation reached maximum iterations ({max_iterations}) without full convergence.\")\n",
    "            break\n",
    "    return v"
   ]
  },
  {
   "cell_type": "markdown",
   "metadata": {
    "id": "id0Re9bnkWRP"
   },
   "source": [
    "# 2- Policy improvement"
   ]
  },
  {
   "cell_type": "code",
   "execution_count": 10,
   "metadata": {
    "id": "eC8zswV7kZPF"
   },
   "outputs": [],
   "source": [
    "def policy_improvement(n, pi, v, Gamma):\n",
    "    \"\"\"\n",
    "    This function should return the new policy by acting in a greedy manner.\n",
    "    The function should return as well a flag indicating if the output policy\n",
    "    is the same as the input policy.\n",
    "\n",
    "    Example:\n",
    "      return new_pi, True if new_pi = pi for all states\n",
    "      else return new_pi, False\n",
    "    \"\"\"\n",
    "    policy_stable = True\n",
    "    new_pi = pi.copy()\n",
    "    for i in range(n):\n",
    "        for j in range(n):\n",
    "            if (i == 0 and j == 0) or (i == n - 1 and j == n - 1):\n",
    "                continue  # Skip terminal states\n",
    "            old_action = pi[i, j]\n",
    "            action_values = []\n",
    "            for a in range(4):\n",
    "                # Determine next state based on action\n",
    "                if a == 0:  # UP\n",
    "                    i_new = max(i - 1, 0)\n",
    "                    j_new = j\n",
    "                elif a == 1:  # RIGHT\n",
    "                    i_new = i\n",
    "                    j_new = min(j + 1, n - 1)\n",
    "                elif a == 2:  # DOWN\n",
    "                    i_new = min(i + 1, n - 1)\n",
    "                    j_new = j\n",
    "                elif a == 3:  # LEFT\n",
    "                    i_new = i\n",
    "                    j_new = max(j - 1, 0)\n",
    "                reward = -1  # Reward per step\n",
    "                value = reward + Gamma * v[i_new, j_new]\n",
    "                action_values.append(value)\n",
    "            best_action = np.argmax(action_values)\n",
    "            new_pi[i, j] = best_action\n",
    "            if old_action != best_action:\n",
    "                policy_stable = False\n",
    "    return new_pi, policy_stable\n"
   ]
  },
  {
   "cell_type": "markdown",
   "metadata": {
    "id": "1rJLFmZYk0I1"
   },
   "source": [
    "# 3- Policy Initialization"
   ]
  },
  {
   "cell_type": "code",
   "execution_count": 11,
   "metadata": {
    "id": "xpuOHJeIk2K_"
   },
   "outputs": [],
   "source": [
    "def policy_initialization(n):\n",
    "    \"\"\"\n",
    "    This function should return the initial random policy for all states.\n",
    "    \"\"\"\n",
    "    pi = np.zeros((n, n), dtype=int)\n",
    "    for i in range(n):\n",
    "        for j in range(n):\n",
    "            if (i == 0 and j == 0) or (i == n - 1 and j == n - 1):\n",
    "                pi[i, j] = -1  # Terminal states\n",
    "            else:\n",
    "                pi[i, j] = np.random.choice([0, 1, 2, 3])\n",
    "    return pi\n"
   ]
  },
  {
   "cell_type": "markdown",
   "metadata": {
    "id": "rfeVN5fQlBt8"
   },
   "source": [
    "# 4- Policy Iteration algorithm"
   ]
  },
  {
   "cell_type": "code",
   "execution_count": 12,
   "metadata": {
    "id": "g7hnjz0PlFD4"
   },
   "outputs": [],
   "source": [
    "def policy_iteration(n, Gamma, threshhold, max_iterations=1000):\n",
    "    pi = policy_initialization(n=n)\n",
    "    v = np.zeros(shape=(n, n))\n",
    "    iteration = 0\n",
    "    while True:\n",
    "        v = policy_evaluation(n=n, v=v, pi=pi, threshhold=threshhold, Gamma=Gamma, max_iterations=max_iterations)\n",
    "        pi, pi_stable = policy_improvement(n=n, pi=pi, v=v, Gamma=Gamma)\n",
    "        iteration += 1\n",
    "        if pi_stable or iteration >= max_iterations:\n",
    "            if iteration >= max_iterations:\n",
    "                print(f\"Policy iteration reached maximum iterations ({max_iterations}) without policy stability.\")\n",
    "            break\n",
    "    return pi, v"
   ]
  },
  {
   "cell_type": "markdown",
   "metadata": {
    "id": "8FvleqV5onq9"
   },
   "source": [
    "# Main Code to Test"
   ]
  },
  {
   "cell_type": "code",
   "execution_count": null,
   "metadata": {
    "colab": {
     "base_uri": "https://localhost:8080/"
    },
    "id": "hntGpzW-jZk3",
    "outputId": "7cef0988-b63c-46cd-d047-0c1e33c72e39"
   },
   "outputs": [
    {
     "name": "stdout",
     "output_type": "stream",
     "text": [
      "\n",
      "Gamma =  0.8\n",
      "\n",
      "Optimal Policy:\n",
      "- L L D \n",
      "U U U D \n",
      "U U R D \n",
      "U R R - \n",
      "\n",
      "Value Function:\n",
      "[[ 0.   -1.   -1.8  -2.44]\n",
      " [-1.   -1.8  -2.44 -1.8 ]\n",
      " [-1.8  -2.44 -1.8  -1.  ]\n",
      " [-2.44 -1.8  -1.    0.  ]]\n",
      "\n",
      "Gamma =  0.9\n",
      "\n",
      "Optimal Policy:\n",
      "- L L D \n",
      "U U U D \n",
      "U U R D \n",
      "U R R - \n",
      "\n",
      "Value Function:\n",
      "[[ 0.   -1.   -1.9  -2.71]\n",
      " [-1.   -1.9  -2.71 -1.9 ]\n",
      " [-1.9  -2.71 -1.9  -1.  ]\n",
      " [-2.71 -1.9  -1.    0.  ]]\n",
      "Policy evaluation reached maximum iterations (1000) without full convergence.\n",
      "Policy evaluation reached maximum iterations (1000) without full convergence.\n",
      "Policy evaluation reached maximum iterations (1000) without full convergence.\n",
      "\n",
      "Gamma =  1\n",
      "\n",
      "Optimal Policy:\n",
      "- L L D \n",
      "U U U D \n",
      "U U R D \n",
      "U R R - \n",
      "\n",
      "Value Function:\n",
      "[[ 0. -1. -2. -3.]\n",
      " [-1. -2. -3. -2.]\n",
      " [-2. -3. -2. -1.]\n",
      " [-3. -2. -1.  0.]]\n"
     ]
    }
   ],
   "source": [
    "n = 4\n",
    "Gamma = [0.8, 0.9, 1]\n",
    "threshhold = 1e-4\n",
    "\n",
    "action_map = {0: 'U', 1: 'R', 2: 'D', 3: 'L', -1: '-'}\n",
    "\n",
    "for _gamma in Gamma:\n",
    "    pi, v = policy_iteration(n=n, Gamma=_gamma, threshhold=threshhold, max_iterations=1000)\n",
    "\n",
    "    print()\n",
    "    print(\"Gamma = \", _gamma)\n",
    "    print()\n",
    "    print(\"Optimal Policy:\")\n",
    "    for i in range(n):\n",
    "        for j in range(n):\n",
    "            print(action_map.get(pi[i, j], '?'), end=' ')\n",
    "        print()\n",
    "    print()\n",
    "    print(\"Value Function:\")\n",
    "    print(v)\n",
    "#Je n'arrive pas à obtenir un résultat pour gamma = 1\n",
    "#Lorsque je ne met pas de limite d'itération le code tourne en boucle"
   ]
  }
 ],
 "metadata": {
  "colab": {
   "collapsed_sections": [
    "i38qZPSHmDVs",
    "ekYrPhAGkAfM",
    "3zlRobQekELk",
    "id0Re9bnkWRP",
    "1rJLFmZYk0I1",
    "8FvleqV5onq9"
   ],
   "provenance": []
  },
  "kernelspec": {
   "display_name": "Python 3",
   "name": "python3"
  },
  "language_info": {
   "codemirror_mode": {
    "name": "ipython",
    "version": 3
   },
   "file_extension": ".py",
   "mimetype": "text/x-python",
   "name": "python",
   "nbconvert_exporter": "python",
   "pygments_lexer": "ipython3",
   "version": "3.11.9"
  }
 },
 "nbformat": 4,
 "nbformat_minor": 0
}
